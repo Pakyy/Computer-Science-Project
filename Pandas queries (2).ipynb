{
 "cells": [
  {
   "cell_type": "code",
   "execution_count": null,
   "id": "cddd0bbc",
   "metadata": {},
   "outputs": [],
   "source": [
    "import pandas as pd\n",
    "import numpy as np\n",
    "import math\n",
    "import re\n",
    "import datetime as dt\n",
    "from IPython.display import HTML"
   ]
  },
  {
   "cell_type": "code",
   "execution_count": null,
   "id": "a7a90f31",
   "metadata": {},
   "outputs": [],
   "source": [
    "dogs = pd.read_csv(\"/Users/paky/Desktop/Uni/Foundations of computer science/Progetto/adoptions/dogs.csv\")\n",
    "dogtravel = pd.read_csv(\"/Users/paky/Desktop/Uni/Foundations of computer science/Progetto/adoptions/dogTravel.csv\")"
   ]
  },
  {
   "cell_type": "code",
   "execution_count": null,
   "id": "f9ad194f",
   "metadata": {},
   "outputs": [],
   "source": [
    "pd.options.display.max_columns = 50\n",
    "dogs"
   ]
  },
  {
   "cell_type": "code",
   "execution_count": null,
   "id": "2d777d80",
   "metadata": {},
   "outputs": [],
   "source": [
    "## Query1\n",
    "dogs[dogs[\"status\"] != \"adoptable\"]\n"
   ]
  },
  {
   "cell_type": "code",
   "execution_count": null,
   "id": "f6272533",
   "metadata": {},
   "outputs": [],
   "source": [
    "## Query2\n",
    "dogs.groupby(\"breed_primary\").count()[\"id\"]"
   ]
  },
  {
   "cell_type": "code",
   "execution_count": null,
   "id": "c8890dfc",
   "metadata": {},
   "outputs": [],
   "source": [
    "## Query3\n",
    "dogs[dogs['breed_secondary'] == 'Mixed Breed'].groupby(\"breed_primary\").count()[\"id\"]/dogs[dogs['breed_secondary'] != 'Mixed Breed'].groupby(\"breed_primary\").count()[\"id\"]\n",
    "# NaN Values are determined by the absence of secondary mixed breed."
   ]
  },
  {
   "cell_type": "code",
   "execution_count": null,
   "id": "e30f5bf8",
   "metadata": {},
   "outputs": [],
   "source": [
    "# FIX CSV\n",
    "# checking id of the dogs with errors in the csv file\n",
    "\n",
    "def has_numbers(inputString):\n",
    "    return bool(re.search(r'\\d', inputString))\n",
    "k = 0\n",
    "for i in dogs[\"posted\"]:\n",
    "    if has_numbers(dogs[\"posted\"][k]) == True:\n",
    "        pass\n",
    "    else:\n",
    "        print(dogs[\"id\"][k])\n",
    "    k+=1"
   ]
  },
  {
   "cell_type": "code",
   "execution_count": null,
   "id": "efefc5b4",
   "metadata": {},
   "outputs": [],
   "source": [
    "## Query4\n",
    "\n",
    "# transforming posted into datetime\n",
    "\n",
    "dogs = pd.read_csv(\"/Users/paky/Desktop/Uni/Foundations of computer science/Progetto/adoptions/dogsfixed.csv\", low_memory=False)\n",
    "dogs[\"posted\"] = pd.to_datetime(dogs[\"posted\"])\n",
    "# grouping the items\n",
    "group = dogs.groupby(['breed_primary'])\n",
    "result = group.agg({ 'posted' : [np.min, np.max]})\n",
    "result.columns = result.columns.get_level_values(0)\n",
    "result.columns = [\"earliest\",\"latest\"]\n",
    "result"
   ]
  },
  {
   "cell_type": "code",
   "execution_count": null,
   "id": "9b2aaf76",
   "metadata": {},
   "outputs": [],
   "source": [
    "# Query5\n",
    "\n",
    "imb = pd.DataFrame(dogs[dogs['sex'] == 'Male'].groupby(\"contact_state\").count()[\"id\"] - dogs[dogs['sex'] == 'Female'].groupby(\"contact_state\").count()[\"id\"])\n",
    "imb.rename(columns = {'id':'imbalance'}, inplace = True)\n",
    "imb"
   ]
  },
  {
   "cell_type": "code",
   "execution_count": null,
   "id": "8db0dfb9",
   "metadata": {},
   "outputs": [],
   "source": [
    "print(\"The state with the maximum imbalance is:\", str(imb.index[imb['imbalance']== imb[\"imbalance\"].max()][0]))"
   ]
  },
  {
   "cell_type": "code",
   "execution_count": null,
   "id": "42959222",
   "metadata": {},
   "outputs": [],
   "source": [
    "# Query6\n",
    "\n",
    "dogs.groupby([\"age\",\"size\"]).mean()[[\"stay_duration\",\"stay_cost\"]]"
   ]
  },
  {
   "cell_type": "code",
   "execution_count": null,
   "id": "b378e373",
   "metadata": {},
   "outputs": [],
   "source": [
    "# Query7 \n",
    "\n",
    "dogtravel[\"id\"].apply(str)\n",
    "dogs[\"id\"].apply(str)\n",
    "dogtravel.set_index('id')\n",
    "dogs.set_index(\"id\")\n",
    "tab1 = dogtravel.groupby(\"id\").count()[dogtravel.groupby(\"id\").count()[\"index\"]>=3][\"index\"]\n",
    "result9 = pd.merge(tab1, dogs[[\"id\",\"breed_primary\"]], left_on = \"id\", right_on = \"id\")\n",
    "result9 = result9.rename(columns = {\"index\":\"Travels\"})\n",
    "result9"
   ]
  },
  {
   "cell_type": "code",
   "execution_count": null,
   "id": "ae476a39",
   "metadata": {},
   "outputs": [],
   "source": [
    "# Query8\n",
    "\n",
    "dogtravel8 = dogtravel\n",
    "for i in range(len(dogtravel[\"manual\"])):\n",
    "    if pd.isnull(dogtravel[\"manual\"][i]) == True:\n",
    "        pass\n",
    "    else:\n",
    "        dogtravel8[\"found\"][i] = dogtravel[\"manual\"][i]\n",
    "dogtravel8"
   ]
  },
  {
   "cell_type": "code",
   "execution_count": null,
   "id": "b671d808",
   "metadata": {},
   "outputs": [],
   "source": [
    "# Query10\n",
    "\n",
    "dogs[\"posted\"] = pd.to_datetime(dogs[\"posted\"])\n",
    "dogs[\"posted\"] = dogs[\"posted\"].dt.date\n",
    "dogs[\"accessed\"] = pd.to_datetime(dogs[\"accessed\"])\n",
    "dogs[\"accessed\"] = dogs[\"accessed\"].dt.date\n",
    "passed_days = dogs[\"accessed\"] - dogs[\"posted\"]\n",
    "dogs1 = dogs\n",
    "dogs1[\"passed_days\"] = passed_days\n",
    "result10 = dogs1[[\"id\",\"passed_days\"]]\n",
    "HTML(result10.to_html(index=False))"
   ]
  }
 ],
 "metadata": {
  "kernelspec": {
   "display_name": "Python 3 (ipykernel)",
   "language": "python",
   "name": "python3"
  },
  "language_info": {
   "codemirror_mode": {
    "name": "ipython",
    "version": 3
   },
   "file_extension": ".py",
   "mimetype": "text/x-python",
   "name": "python",
   "nbconvert_exporter": "python",
   "pygments_lexer": "ipython3",
   "version": "3.9.12"
  }
 },
 "nbformat": 4,
 "nbformat_minor": 5
}
